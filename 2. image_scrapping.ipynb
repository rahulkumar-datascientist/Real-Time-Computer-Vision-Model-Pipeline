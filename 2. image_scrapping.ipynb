{
 "cells": [
  {
   "cell_type": "markdown",
   "metadata": {
    "id": "O35ELnfQPqtv"
   },
   "source": [
    "# Image Scrapping from web"
   ]
  },
  {
   "cell_type": "code",
   "execution_count": null,
   "metadata": {
    "id": "lz_k8IXqPjEk"
   },
   "outputs": [],
   "source": [
    "# Installing iCrawler\n",
    "!pip install icrawler"
   ]
  },
  {
   "cell_type": "markdown",
   "metadata": {
    "id": "LN8O26V7RZAG"
   },
   "source": [
    "## 1. Fetching Sedan Images"
   ]
  },
  {
   "cell_type": "markdown",
   "metadata": {
    "id": "9_roSCoMqOJI"
   },
   "source": [
    "#### From Google"
   ]
  },
  {
   "cell_type": "code",
   "execution_count": null,
   "metadata": {
    "id": "qOUrrCdqQ_L9"
   },
   "outputs": [],
   "source": [
    "from icrawler.builtin import GoogleImageCrawler\n",
    "\n",
    "google_crawler = GoogleImageCrawler(\n",
    "    feeder_threads=1,\n",
    "    parser_threads=2,\n",
    "    downloader_threads=4,\n",
    "    storage={'root_dir': './scrapped images/sedan1'})\n",
    "\n",
    "filters = dict(\n",
    "    size='icon'\n",
    "    )\n",
    "\n",
    "google_crawler.crawl(keyword='sedan', filters=filters, max_num=1000, file_idx_offset='auto')"
   ]
  },
  {
   "cell_type": "markdown",
   "metadata": {
    "id": "Fw6GT6PSqeig"
   },
   "source": [
    "#### From Bing"
   ]
  },
  {
   "cell_type": "code",
   "execution_count": null,
   "metadata": {
    "id": "vBACO4cvRB_C"
   },
   "outputs": [],
   "source": [
    "# From bing\n",
    "from icrawler.builtin import BingImageCrawler\n",
    "bing_crawler = BingImageCrawler(downloader_threads=4,\n",
    "                                storage={'root_dir': './scrapped images/sedan2'})\n",
    "filters = dict(\n",
    "    size='small'\n",
    "    )\n",
    "bing_crawler.crawl(keyword='sedan', filters=filters, offset=0, max_num=1000)"
   ]
  },
  {
   "cell_type": "markdown",
   "metadata": {
    "id": "OxeEGu22RgSP"
   },
   "source": [
    "## 2. Fetching SUV images"
   ]
  },
  {
   "cell_type": "markdown",
   "metadata": {
    "id": "EjdybBz7qvB9"
   },
   "source": [
    "#### From Google"
   ]
  },
  {
   "cell_type": "code",
   "execution_count": null,
   "metadata": {
    "id": "eQVxJ0gLRpGh"
   },
   "outputs": [],
   "source": [
    "from icrawler.builtin import GoogleImageCrawler\n",
    "\n",
    "google_crawler = GoogleImageCrawler(\n",
    "    feeder_threads=1,\n",
    "    parser_threads=2,\n",
    "    downloader_threads=4,\n",
    "    storage={'root_dir': './scrapped images/suv1'})\n",
    "\n",
    "filters = dict(\n",
    "    size='icon'\n",
    "    )\n",
    "\n",
    "google_crawler.crawl(keyword='big suv cars', filters=filters, max_num=1000, file_idx_offset='auto')"
   ]
  },
  {
   "cell_type": "markdown",
   "metadata": {
    "id": "0Gx83X3Fq0Ex"
   },
   "source": [
    "#### From Bing"
   ]
  },
  {
   "cell_type": "code",
   "execution_count": null,
   "metadata": {
    "id": "VoOMWuhVRpGi"
   },
   "outputs": [],
   "source": [
    "from icrawler.builtin import BingImageCrawler\n",
    "bing_crawler = BingImageCrawler(downloader_threads=4,\n",
    "                                storage={'root_dir': './scrapped images/suv2'})\n",
    "filters = dict(\n",
    "    size='small'\n",
    "    )\n",
    "bing_crawler.crawl(keyword='big suv cars', filters=filters, offset=0, max_num=1000)"
   ]
  }
 ],
 "metadata": {
  "colab": {
   "authorship_tag": "ABX9TyNzFkNXa5YzUmri/QPEa8rQ",
   "collapsed_sections": [
    "LN8O26V7RZAG",
    "OxeEGu22RgSP"
   ],
   "name": "image_scrapping.ipynb",
   "provenance": []
  },
  "kernelspec": {
   "display_name": "Python 3",
   "language": "python",
   "name": "python3"
  },
  "language_info": {
   "codemirror_mode": {
    "name": "ipython",
    "version": 3
   },
   "file_extension": ".py",
   "mimetype": "text/x-python",
   "name": "python",
   "nbconvert_exporter": "python",
   "pygments_lexer": "ipython3",
   "version": "3.8.3"
  }
 },
 "nbformat": 4,
 "nbformat_minor": 1
}
